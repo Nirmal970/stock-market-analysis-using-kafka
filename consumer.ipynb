{
 "cells": [
  {
   "cell_type": "code",
   "execution_count": null,
   "id": "bb4aba5b-953b-4da8-953d-f14bf2584c7a",
   "metadata": {},
   "outputs": [],
   "source": [
    "from kafka import KafkaConsumer\n",
    "from pyspark.sql import SparkSession\n",
    "from pyspark.sql.functions import from_json, col\n",
    "from pyspark.sql.types import StructType, StringType\n",
    "from s3fs import S3FileSystem"
   ]
  },
  {
   "cell_type": "code",
   "execution_count": null,
   "id": "99133174-c1c1-4541-b13b-1b01753d30b5",
   "metadata": {},
   "outputs": [],
   "source": [
    "spark = SparkSession.builder.appName(\"KafkaConsumerApp\") .getOrCreate()\n"
   ]
  },
  {
   "cell_type": "code",
   "execution_count": null,
   "id": "64600ccc-600d-4136-a2bd-41bf7402e3c0",
   "metadata": {},
   "outputs": [],
   "source": [
    "df = spark.readStream.format(\"kafka\").option(\"kafka.bootstrap.servers\", \"your_broker_ip:9092\").option(\"subscribe\", \"demo_test\").load()"
   ]
  },
  {
   "cell_type": "code",
   "execution_count": null,
   "id": "34014e49-1aa3-4c57-8bb3-3c5da8b16f7b",
   "metadata": {},
   "outputs": [],
   "source": [
    "for column in df.columns:\n",
    "        df = df.filter(~col(column).isNull())"
   ]
  },
  {
   "cell_type": "code",
   "execution_count": null,
   "id": "c6265e17-cbfe-4423-91bc-9ae3da285007",
   "metadata": {},
   "outputs": [],
   "source": [
    "query = df.writeStream.format(\"json\").outputMode(\"append\").option(\"path\", \"s3://bunny970/stock_market\").start()"
   ]
  },
  {
   "cell_type": "code",
   "execution_count": null,
   "id": "4270df72-2fdd-4a69-9833-b591723554cc",
   "metadata": {},
   "outputs": [],
   "source": [
    "query.awaitTermination()"
   ]
  },
  {
   "cell_type": "code",
   "execution_count": null,
   "id": "4d0cbaa7-f1fd-4006-b696-a0a3c455e03b",
   "metadata": {},
   "outputs": [],
   "source": [
    "spark.stop()"
   ]
  },
  {
   "cell_type": "code",
   "execution_count": null,
   "id": "f6f2b91a-beb1-450d-99a8-1bfe9b7bbd88",
   "metadata": {},
   "outputs": [],
   "source": []
  },
  {
   "cell_type": "code",
   "execution_count": null,
   "id": "b8c74f4f-99c9-4e17-8676-b117c92826c9",
   "metadata": {},
   "outputs": [],
   "source": []
  },
  {
   "cell_type": "code",
   "execution_count": null,
   "id": "1670174c-b061-474e-a259-782fcd922fcb",
   "metadata": {},
   "outputs": [],
   "source": []
  },
  {
   "cell_type": "code",
   "execution_count": null,
   "id": "deaf2dd4-d387-4cd0-adf1-367183512a4d",
   "metadata": {},
   "outputs": [],
   "source": []
  },
  {
   "cell_type": "code",
   "execution_count": null,
   "id": "342405ef-5f12-4595-805f-2d2e91256dc7",
   "metadata": {},
   "outputs": [],
   "source": []
  }
 ],
 "metadata": {
  "kernelspec": {
   "display_name": "Python 3 (ipykernel)",
   "language": "python",
   "name": "python3"
  },
  "language_info": {
   "codemirror_mode": {
    "name": "ipython",
    "version": 3
   },
   "file_extension": ".py",
   "mimetype": "text/x-python",
   "name": "python",
   "nbconvert_exporter": "python",
   "pygments_lexer": "ipython3",
   "version": "3.11.4"
  }
 },
 "nbformat": 4,
 "nbformat_minor": 5
}
